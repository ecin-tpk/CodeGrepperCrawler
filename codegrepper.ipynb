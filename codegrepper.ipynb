{
 "cells": [
  {
   "cell_type": "markdown",
   "metadata": {},
   "source": [
    "# I. Managing indices, mappings, analysis, ranking"
   ]
  },
  {
   "cell_type": "markdown",
   "source": [
    "## 1. Create index"
   ],
   "metadata": {
    "collapsed": false
   }
  },
  {
   "cell_type": "code",
   "execution_count": null,
   "outputs": [],
   "source": [
    "import elasticsearch\n",
    "\n",
    "es = elasticsearch.Elasticsearch()\n",
    "\n",
    "index_name = \"codegrepper\"\n",
    "type_name = \"answer\"\n",
    "\n",
    "if es.indices.exists(index_name):\n",
    "    es.indices.delete(index_name)\n",
    "\n",
    "es.indices.create(index_name)\n",
    "es.cluster.health(wait_for_status=\"yellow\")"
   ],
   "metadata": {
    "collapsed": false,
    "pycharm": {
     "name": "#%%\n"
    }
   }
  },
  {
   "cell_type": "markdown",
   "source": [
    "## 2. Analysys"
   ],
   "metadata": {
    "collapsed": false,
    "pycharm": {
     "name": "#%% md\n"
    }
   }
  },
  {
   "cell_type": "code",
   "execution_count": null,
   "outputs": [],
   "source": [
    "es.indices.close(index=index_name)\n",
    "\n",
    "es.indices.put_settings(\n",
    "    index=index_name,\n",
    "    body={\n",
    "        \"analysis\": {\n",
    "            \"filter\": {},\n",
    "            \"analyzer\": {\n",
    "                \"keyword_analyzer\": {\n",
    "                    \"filter\": [\n",
    "                        \"lowercase\",\n",
    "                        \"asciifolding\",\n",
    "                        \"trim\"\n",
    "                    ],\n",
    "                    \"char_filter\": [],\n",
    "                    \"type\": \"custom\",\n",
    "                    \"tokenizer\": \"keyword\"\n",
    "                },\n",
    "                \"edge_ngram_analyzer\": {\n",
    "                    \"filter\": [\n",
    "                        \"lowercase\"\n",
    "                    ],\n",
    "                    \"tokenizer\": \"edge_ngram_tokenizer\"\n",
    "                },\n",
    "                \"edge_ngram_search_analyzer\": {\n",
    "                    \"tokenizer\": \"lowercase\"\n",
    "                }\n",
    "            },\n",
    "            \"tokenizer\": {\n",
    "                \"edge_ngram_tokenizer\": {\n",
    "                    \"type\": \"edge_ngram\",\n",
    "                    \"min_gram\": 2,\n",
    "                    \"max_gram\": 5,\n",
    "                    \"token_chars\": [\n",
    "                        \"letter\"\n",
    "                    ]\n",
    "                }\n",
    "            }\n",
    "        }\n",
    "    })\n",
    "\n",
    "es.indices.open(index=index_name)"
   ],
   "metadata": {
    "collapsed": false,
    "pycharm": {
     "name": "#%%\n"
    }
   }
  },
  {
   "cell_type": "markdown",
   "metadata": {
    "pycharm": {
     "name": "#%% md\n"
    }
   },
   "source": [
    "## 3. Mapping (explicit)"
   ]
  },
  {
   "cell_type": "code",
   "execution_count": null,
   "outputs": [],
   "source": [
    "es.indices.put_mapping(\n",
    "    index=index_name,\n",
    "    doc_type=type_name,\n",
    "    include_type_name=True,\n",
    "    body={\n",
    "        type_name: {\n",
    "            \"properties\": {\n",
    "                \"title\": {\n",
    "                    \"type\": \"text\",\n",
    "                    \"term_vector\": \"with_positions_offsets\",\n",
    "                    \"fields\": {\n",
    "                        \"keywordstring\": {\n",
    "                            \"type\": \"text\",\n",
    "                            \"analyzer\": \"keyword_analyzer\"\n",
    "                        },\n",
    "                        \"edgengram\": {\n",
    "                            \"type\": \"text\",\n",
    "                            \"analyzer\": \"edge_ngram_analyzer\",\n",
    "                            \"search_analyzer\": \"edge_ngram_search_analyzer\"\n",
    "                        },\n",
    "                        \"completion\": {\n",
    "                            \"type\": \"completion\",\n",
    "                            \"contexts\": [\n",
    "                                {\n",
    "                                    \"name\": \"framework\",\n",
    "                                    \"type\": \"category\",\n",
    "                                    \"path\": \"tags\"\n",
    "                                },\n",
    "                            ]\n",
    "                        }\n",
    "                    },\n",
    "                    \"analyzer\": \"standard\"\n",
    "                },\n",
    "                \"code\": {\n",
    "                    \"type\": \"text\",\n",
    "                    \"term_vector\": \"with_positions_offsets\",\n",
    "                },\n",
    "                \"date\": {\n",
    "                    \"type\": \"date\",\n",
    "                    \"format\": \"MMM dd yyyy\"},\n",
    "                \"vote\": {\n",
    "                    \"type\": \"integer\",\n",
    "                },\n",
    "                \"tags\": {\"type\": \"keyword\"},\n",
    "                \"posted_by\": {\n",
    "                    \"type\": \"text\",\n",
    "                    \"term_vector\": \"with_positions_offsets\",\n",
    "                },\n",
    "                \"source_name\": {\n",
    "                    \"type\": \"text\",\n",
    "                    \"term_vector\": \"with_positions_offsets\",\n",
    "                },\n",
    "                \"source_url\": {\n",
    "                    \"type\": \"text\",\n",
    "                    \"term_vector\": \"with_positions_offsets\",\n",
    "                },\n",
    "            }\n",
    "        }\n",
    "    }\n",
    ")"
   ],
   "metadata": {
    "collapsed": false,
    "pycharm": {
     "name": "#%%\n"
    }
   }
  },
  {
   "cell_type": "markdown",
   "metadata": {
    "pycharm": {
     "name": "#%% md\n"
    }
   },
   "source": [
    "## 4. Bulk insert scraped data"
   ]
  },
  {
   "cell_type": "code",
   "execution_count": null,
   "outputs": [],
   "source": [
    "import json\n",
    "\n",
    "from elasticsearch.helpers import bulk\n",
    "\n",
    "\n",
    "def read_data(file):\n",
    "    with open(file, 'r') as f:\n",
    "        jobs = json.loads(f.read())\n",
    "        res_list = [i for n, i in enumerate(jobs) if i not in jobs[n + 1:]]\n",
    "        return res_list\n",
    "\n",
    "\n",
    "def gen_data(job_list):\n",
    "    for job in job_list:\n",
    "        title = job.get(\"title\", None)\n",
    "        code = job.get(\"code\", None)\n",
    "        date = job.get(\"date\", None)\n",
    "        vote = job.get(\"vote\", None)\n",
    "        tags = job.get(\"tags\", None)\n",
    "        posted_by = job.get(\"posted_by\", None)\n",
    "        source_name = job.get(\"source_name\", None)\n",
    "        source_url = job.get(\"source_url\", None)\n",
    "\n",
    "        yield {\n",
    "            \"_index\": index_name,\n",
    "            \"_source\": {\n",
    "                \"title\": title,\n",
    "                \"code\": code,\n",
    "                \"date\": date,\n",
    "                \"vote\": vote,\n",
    "                \"tags\": tags,\n",
    "                \"posted_by\": posted_by,\n",
    "                \"source_name\": source_name,\n",
    "                \"source_url\": source_url,\n",
    "            },\n",
    "        }\n",
    "\n",
    "\n",
    "import os\n",
    "for root, dirs, files in os.walk('./data', topdown=False):\n",
    "        for name in files:\n",
    "            file = os.path.join(root, name)\n",
    "            data = read_data(file)\n",
    "            bulk(es, gen_data(data))\n"
   ],
   "metadata": {
    "collapsed": false,
    "pycharm": {
     "name": "#%%\n"
    }
   }
  }
 ],
 "metadata": {
  "kernelspec": {
   "display_name": "Python 3",
   "language": "python",
   "name": "python3"
  },
  "language_info": {
   "codemirror_mode": {
    "name": "ipython",
    "version": 3
   },
   "file_extension": ".py",
   "mimetype": "text/x-python",
   "name": "python",
   "nbconvert_exporter": "python",
   "pygments_lexer": "ipython3",
   "version": "3.7.6"
  }
 },
 "nbformat": 4,
 "nbformat_minor": 4
}